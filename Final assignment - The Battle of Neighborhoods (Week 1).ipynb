{
 "cells": [
  {
   "cell_type": "markdown",
   "metadata": {},
   "source": [
    "# The Battle of Neighborhoods (Week 1)"
   ]
  },
  {
   "cell_type": "markdown",
   "metadata": {},
   "source": [
    "## Introduction - Business Problem"
   ]
  },
  {
   "cell_type": "markdown",
   "metadata": {},
   "source": [
    "The objective is to find a proper location and provide some recommendation to install an office/start-up specifically in **Lisbon,  Portugal**. Considering the current situation and all  uncertainties related to the Covid-19, Portugal is the <a href=\"https://startupportugal.com/whyportugal\">third safest country in the world </a>offering stability in troubled times. Additionally, Portugal provides incentives for startups, investors, and R&D.\n",
    "\n",
    "Based on which district Lisbon is pretty diversified and offers various facilities, so let’s try to **identify available facilities** in this city preferably close to the city center.\n",
    "The categories of venues that matter to employees of this start-up have been identified: Yoga Studio, Café, Coworking space.\n"
   ]
  },
  {
   "cell_type": "markdown",
   "metadata": {},
   "source": [
    "## Data"
   ]
  },
  {
   "cell_type": "markdown",
   "metadata": {},
   "source": [
    "Based on the business problem described above, our focus will be:\n",
    "\n",
    "* What are the existing coworking spaces, coffee places and Yoga Studio in the neighborhood\n",
    "* Distance to coworking spaces and café in the neighborhood, if any\n",
    "* Distance of neighborhood from city center\n",
    "\n",
    "Regarding the data sources that will be used:\n",
    "* Using **Foursquare API** to get the number of coworking spaces and Yoga space and location in every neighborhood\n",
    "* Coordinate of Lisbon city center will be obtained using Foursquare API of well known Lisbon location (Praça do Comercio)\n"
   ]
  },
  {
   "cell_type": "code",
   "execution_count": null,
   "metadata": {},
   "outputs": [],
   "source": []
  }
 ],
 "metadata": {
  "kernelspec": {
   "display_name": "Python 3",
   "language": "python",
   "name": "python3"
  },
  "language_info": {
   "codemirror_mode": {
    "name": "ipython",
    "version": 3
   },
   "file_extension": ".py",
   "mimetype": "text/x-python",
   "name": "python",
   "nbconvert_exporter": "python",
   "pygments_lexer": "ipython3",
   "version": "3.7.4"
  }
 },
 "nbformat": 4,
 "nbformat_minor": 2
}
